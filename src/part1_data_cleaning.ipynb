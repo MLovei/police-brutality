{
 "cells": [
  {
   "cell_type": "markdown",
   "source": [
    "# Fatal Police Shooting in the United States\n",
    "\n",
    "## Author: Martynas Loveikis\n",
    "\n",
    "**Welcome to this notebook 3 part series, where we bravely venture into the statistical minefield of the Fatal Police Shootings in the US dataset, courtesy of The Washington Post.**\n",
    "\n",
    "### **Objective: Cops, Mental Health or the Lunar Cycle -  Is There a Connection?**\n",
    "\n",
    "The moon's influence is a tale as old as time. But does it extend to those high-pressure moments on the beat?  We're analyzing if mental health-related incidents align with the lunar phases. \n",
    "\n",
    "In this oh-so-delicate analysis, we'll sanitize the data, engineer suspiciously relevant new features, and visualize the heck out of it. Our goal? To glean insights into America's **contentious** fascination with **police brutality** over the past decade. Hold onto your hats, folks. "
   ],
   "metadata": {
    "collapsed": false
   },
   "id": "8defd386ab1d246d"
  },
  {
   "cell_type": "markdown",
   "source": [
    "### 1. **Initialization**\n",
    "\n",
    "_We begin by importing the necessary libraries and loading the dataset._"
   ],
   "metadata": {
    "collapsed": false
   },
   "id": "9337b24a46d7c1a6"
  },
  {
   "cell_type": "code",
   "execution_count": 1,
   "id": "initial_id",
   "metadata": {
    "collapsed": true,
    "ExecuteTime": {
     "end_time": "2024-04-06T08:34:18.917341Z",
     "start_time": "2024-04-06T08:34:18.825036Z"
    }
   },
   "outputs": [],
   "source": [
    "import ephem\n",
    "import holidays\n",
    "import pandas as pd\n",
    "from geopy.geocoders import Nominatim\n",
    "from tqdm.notebook import tqdm_notebook"
   ]
  },
  {
   "cell_type": "code",
   "outputs": [],
   "source": [
    "shootings_url = ('https://raw.githubusercontent.com/washingtonpost/'\n",
    "                 'data-police-shootings/master/v2/'\n",
    "                 'fatal-police-shootings-data.csv')\n",
    "df = pd.read_csv(shootings_url, index_col=0).drop('agency_ids', axis=1)"
   ],
   "metadata": {
    "collapsed": false,
    "ExecuteTime": {
     "end_time": "2024-04-06T08:34:19.333287Z",
     "start_time": "2024-04-06T08:34:18.918343Z"
    }
   },
   "id": "8c03e62fde6db86c",
   "execution_count": 2
  },
  {
   "cell_type": "code",
   "outputs": [
    {
     "data": {
      "text/plain": "          date threat_type flee_status armed_with           city  \\\nid                                                                 \n3   2015-01-02       point         not        gun        Shelton   \n4   2015-01-02       point         not        gun          Aloha   \n5   2015-01-03        move         not    unarmed        Wichita   \n8   2015-01-04       point         not    replica  San Francisco   \n9   2015-01-04       point         not      other          Evans   \n\n           county state   latitude   longitude location_precision  \\\nid                                                                  \n3           Mason    WA  47.246826 -123.121592      not_available   \n4      Washington    OR  45.487421 -122.891696      not_available   \n5        Sedgwick    KS  37.694766  -97.280554      not_available   \n8   San Francisco    CA  37.762910 -122.422001      not_available   \n9            Weld    CO  40.383937 -104.692261      not_available   \n\n                  name   age gender race    race_source  \\\nid                                                        \n3           Tim Elliot  53.0   male    A  not_available   \n4     Lewis Lee Lembke  47.0   male    W  not_available   \n5   John Paul Quintero  23.0   male    H  not_available   \n8      Matthew Hoffman  32.0   male    W  not_available   \n9    Michael Rodriguez  39.0   male    H  not_available   \n\n    was_mental_illness_related  body_camera  \nid                                           \n3                         True        False  \n4                        False        False  \n5                        False        False  \n8                         True        False  \n9                        False        False  ",
      "text/html": "<div>\n<style scoped>\n    .dataframe tbody tr th:only-of-type {\n        vertical-align: middle;\n    }\n\n    .dataframe tbody tr th {\n        vertical-align: top;\n    }\n\n    .dataframe thead th {\n        text-align: right;\n    }\n</style>\n<table border=\"1\" class=\"dataframe\">\n  <thead>\n    <tr style=\"text-align: right;\">\n      <th></th>\n      <th>date</th>\n      <th>threat_type</th>\n      <th>flee_status</th>\n      <th>armed_with</th>\n      <th>city</th>\n      <th>county</th>\n      <th>state</th>\n      <th>latitude</th>\n      <th>longitude</th>\n      <th>location_precision</th>\n      <th>name</th>\n      <th>age</th>\n      <th>gender</th>\n      <th>race</th>\n      <th>race_source</th>\n      <th>was_mental_illness_related</th>\n      <th>body_camera</th>\n    </tr>\n    <tr>\n      <th>id</th>\n      <th></th>\n      <th></th>\n      <th></th>\n      <th></th>\n      <th></th>\n      <th></th>\n      <th></th>\n      <th></th>\n      <th></th>\n      <th></th>\n      <th></th>\n      <th></th>\n      <th></th>\n      <th></th>\n      <th></th>\n      <th></th>\n      <th></th>\n    </tr>\n  </thead>\n  <tbody>\n    <tr>\n      <th>3</th>\n      <td>2015-01-02</td>\n      <td>point</td>\n      <td>not</td>\n      <td>gun</td>\n      <td>Shelton</td>\n      <td>Mason</td>\n      <td>WA</td>\n      <td>47.246826</td>\n      <td>-123.121592</td>\n      <td>not_available</td>\n      <td>Tim Elliot</td>\n      <td>53.0</td>\n      <td>male</td>\n      <td>A</td>\n      <td>not_available</td>\n      <td>True</td>\n      <td>False</td>\n    </tr>\n    <tr>\n      <th>4</th>\n      <td>2015-01-02</td>\n      <td>point</td>\n      <td>not</td>\n      <td>gun</td>\n      <td>Aloha</td>\n      <td>Washington</td>\n      <td>OR</td>\n      <td>45.487421</td>\n      <td>-122.891696</td>\n      <td>not_available</td>\n      <td>Lewis Lee Lembke</td>\n      <td>47.0</td>\n      <td>male</td>\n      <td>W</td>\n      <td>not_available</td>\n      <td>False</td>\n      <td>False</td>\n    </tr>\n    <tr>\n      <th>5</th>\n      <td>2015-01-03</td>\n      <td>move</td>\n      <td>not</td>\n      <td>unarmed</td>\n      <td>Wichita</td>\n      <td>Sedgwick</td>\n      <td>KS</td>\n      <td>37.694766</td>\n      <td>-97.280554</td>\n      <td>not_available</td>\n      <td>John Paul Quintero</td>\n      <td>23.0</td>\n      <td>male</td>\n      <td>H</td>\n      <td>not_available</td>\n      <td>False</td>\n      <td>False</td>\n    </tr>\n    <tr>\n      <th>8</th>\n      <td>2015-01-04</td>\n      <td>point</td>\n      <td>not</td>\n      <td>replica</td>\n      <td>San Francisco</td>\n      <td>San Francisco</td>\n      <td>CA</td>\n      <td>37.762910</td>\n      <td>-122.422001</td>\n      <td>not_available</td>\n      <td>Matthew Hoffman</td>\n      <td>32.0</td>\n      <td>male</td>\n      <td>W</td>\n      <td>not_available</td>\n      <td>True</td>\n      <td>False</td>\n    </tr>\n    <tr>\n      <th>9</th>\n      <td>2015-01-04</td>\n      <td>point</td>\n      <td>not</td>\n      <td>other</td>\n      <td>Evans</td>\n      <td>Weld</td>\n      <td>CO</td>\n      <td>40.383937</td>\n      <td>-104.692261</td>\n      <td>not_available</td>\n      <td>Michael Rodriguez</td>\n      <td>39.0</td>\n      <td>male</td>\n      <td>H</td>\n      <td>not_available</td>\n      <td>False</td>\n      <td>False</td>\n    </tr>\n  </tbody>\n</table>\n</div>"
     },
     "execution_count": 3,
     "metadata": {},
     "output_type": "execute_result"
    }
   ],
   "source": [
    "df.head()"
   ],
   "metadata": {
    "collapsed": false,
    "ExecuteTime": {
     "end_time": "2024-04-06T08:34:19.347654Z",
     "start_time": "2024-04-06T08:34:19.334294Z"
    }
   },
   "id": "d6e9a23c5cedaa0e",
   "execution_count": 3
  },
  {
   "cell_type": "code",
   "outputs": [
    {
     "name": "stdout",
     "output_type": "stream",
     "text": [
      "First incident:\t2015-01-02\n",
      "Last incident:\t2024-03-26\n"
     ]
    }
   ],
   "source": [
    "print(f'First incident:\t{df['date'].min()}')\n",
    "print(f'Last incident:\t{df['date'].max()}')"
   ],
   "metadata": {
    "collapsed": false,
    "ExecuteTime": {
     "end_time": "2024-04-06T08:34:19.353101Z",
     "start_time": "2024-04-06T08:34:19.348657Z"
    }
   },
   "id": "e515213530c46715",
   "execution_count": 4
  },
  {
   "cell_type": "markdown",
   "source": [
    "_**Note:** The dataset covers slightly less than a full decade. This could be a factor to consider when interpreting trends.  Sadly, even with this incomplete picture, we're already approaching a staggering 10,000 counts of police brutality. That translates to roughly a thousand lives lost each year, a stark reminder of the issue's gravity._ \n"
   ],
   "metadata": {
    "collapsed": false
   },
   "id": "e87bc0b13e8e0e3c"
  },
  {
   "cell_type": "code",
   "outputs": [
    {
     "name": "stdout",
     "output_type": "stream",
     "text": [
      "<class 'pandas.core.frame.DataFrame'>\n",
      "Index: 9497 entries, 3 to 10272\n",
      "Data columns (total 17 columns):\n",
      " #   Column                      Non-Null Count  Dtype  \n",
      "---  ------                      --------------  -----  \n",
      " 0   date                        9497 non-null   object \n",
      " 1   threat_type                 9430 non-null   object \n",
      " 2   flee_status                 8199 non-null   object \n",
      " 3   armed_with                  9285 non-null   object \n",
      " 4   city                        9427 non-null   object \n",
      " 5   county                      4775 non-null   object \n",
      " 6   state                       9497 non-null   object \n",
      " 7   latitude                    8446 non-null   float64\n",
      " 8   longitude                   8446 non-null   float64\n",
      " 9   location_precision          8446 non-null   object \n",
      " 10  name                        9152 non-null   object \n",
      " 11  age                         9110 non-null   float64\n",
      " 12  gender                      9470 non-null   object \n",
      " 13  race                        8372 non-null   object \n",
      " 14  race_source                 8399 non-null   object \n",
      " 15  was_mental_illness_related  9497 non-null   bool   \n",
      " 16  body_camera                 9497 non-null   bool   \n",
      "dtypes: bool(2), float64(3), object(12)\n",
      "memory usage: 1.2+ MB\n"
     ]
    }
   ],
   "source": [
    "df.info()"
   ],
   "metadata": {
    "collapsed": false,
    "ExecuteTime": {
     "end_time": "2024-04-06T08:34:19.362069Z",
     "start_time": "2024-04-06T08:34:19.353101Z"
    }
   },
   "id": "dd956f43c6134d8c",
   "execution_count": 5
  },
  {
   "cell_type": "code",
   "outputs": [
    {
     "name": "stdout",
     "output_type": "stream",
     "text": [
      "The number of nulls in each feature is: \n",
      "date                             0\n",
      "threat_type                     67\n",
      "flee_status                   1298\n",
      "armed_with                     212\n",
      "city                            70\n",
      "county                        4722\n",
      "state                            0\n",
      "latitude                      1051\n",
      "longitude                     1051\n",
      "location_precision            1051\n",
      "name                           345\n",
      "age                            387\n",
      "gender                          27\n",
      "race                          1125\n",
      "race_source                   1098\n",
      "was_mental_illness_related       0\n",
      "body_camera                      0\n",
      "dtype: int64\n"
     ]
    }
   ],
   "source": [
    "print(f\"The number of nulls in each feature is: \\n{df.isnull().sum()}\")"
   ],
   "metadata": {
    "collapsed": false,
    "ExecuteTime": {
     "end_time": "2024-04-06T08:34:19.369159Z",
     "start_time": "2024-04-06T08:34:19.363077Z"
    }
   },
   "id": "de53a035a007c82f",
   "execution_count": 6
  },
  {
   "cell_type": "markdown",
   "source": [
    "### 2. **The Geocoding Quest: Restoring Location Order** \n",
    "\n",
    "_Someone clearly slept through geography class.  Let's see if a reverse geocoding API can fix this mess._"
   ],
   "metadata": {
    "collapsed": false
   },
   "id": "e8a43aa0da77e3b3"
  },
  {
   "cell_type": "code",
   "outputs": [
    {
     "data": {
      "text/plain": "  0%|          | 0/31 [00:00<?, ?it/s]",
      "application/vnd.jupyter.widget-view+json": {
       "version_major": 2,
       "version_minor": 0,
       "model_id": "016efade5c5d4b42a040f640c0ddaed0"
      }
     },
     "metadata": {},
     "output_type": "display_data"
    },
    {
     "data": {
      "text/plain": "  0%|          | 0/3917 [00:00<?, ?it/s]",
      "application/vnd.jupyter.widget-view+json": {
       "version_major": 2,
       "version_minor": 0,
       "model_id": "2cd202f89e324750937b0a45f14cc16c"
      }
     },
     "metadata": {},
     "output_type": "display_data"
    }
   ],
   "source": [
    "def get_missing_coordinates(dataframe, location_column):\n",
    "\t\"\"\"Identifies rows with missing location data but valid coordinates.\n",
    "    Args:\n",
    "        dataframe (pandas.DataFrame): Input DataFrame.\n",
    "        location_column (str): Name of the location column.\n",
    "    Returns:\n",
    "        pandas.DataFrame: DataFrame containing rows with \n",
    "        missing location data but valid coordinates.\n",
    "    \"\"\"\n",
    "\n",
    "\treturn dataframe.loc[dataframe[location_column].isna() &\n",
    "\t                     ~dataframe['latitude'].isna() &\n",
    "\t                     ~dataframe['longitude'].isna(),\n",
    "\t['latitude', 'longitude']]\n",
    "\n",
    "\n",
    "def extract_available_values(dataframe, location_column):\n",
    "\t\"\"\"Identifies the values that were available in the given coordinates.\n",
    "    Args:\n",
    "        dataframe (pandas.DataFrame): Input DataFrame.\n",
    "        location_column (str): Name of the location column.\n",
    "    Returns:\n",
    "        pandas.DataFrame: DataFrame containing available values.\n",
    "    \"\"\"\n",
    "\n",
    "\treturn ~dataframe.loc[dataframe[location_column].isna(),\n",
    "\t['latitude', 'longitude', location_column]]\n",
    "\n",
    "\n",
    "def reverse_geocode(latitude, longitude, location_type='city'):\n",
    "\t\"\"\"Retrieves location information (city or county) from coordinates.\n",
    "    Args:\n",
    "        latitude (float): Latitude coordinate.\n",
    "        longitude (float): Longitude coordinate.\n",
    "        location_type (str, optional): Type of location to retrieve.\n",
    "        Defaults to 'city'.\n",
    "    Returns:\n",
    "        str: Location information.\n",
    "    \"\"\"\n",
    "\n",
    "\tgeolocator = Nominatim(user_agent='reverse_geocoding')\n",
    "\tlocation = geolocator.reverse((latitude, longitude), exactly_one=True)\n",
    "\tif location:\n",
    "\t\taddress = location.raw['address']\n",
    "\t\treturn address.get(location_type, 'not_available')\n",
    "\telse:\n",
    "\t\treturn 'not_available'\n",
    "\n",
    "\n",
    "def get_location_from_coords(row, location_type):\n",
    "\t\"\"\"Retrieves location information from coordinates.\n",
    "    Args:\n",
    "        row (pandas.Series): Row containing latitude and longitude.\n",
    "        location_type (str): Type of location to retrieve.\n",
    "    Returns:\n",
    "        str: Location information.\n",
    "    \"\"\"\n",
    "\n",
    "\treturn reverse_geocode(row['latitude'], row['longitude'], location_type)\n",
    "\n",
    "\n",
    "def fill_geo_locations(dataframe, location_type):\n",
    "\t\"\"\"Fills missing location data using reverse geocoding.\n",
    "    Args:\n",
    "        dataframe (pandas.DataFrame): DataFrame with 'latitude', 'longitude', \n",
    "        and missing location columns.\n",
    "        location_type (str): 'city' or 'county'.\n",
    "    \"\"\"\n",
    "\n",
    "\tmissing_locations = get_missing_coordinates(dataframe, location_type)\n",
    "\ttqdm_notebook.pandas()\n",
    "\n",
    "\t# Use progress_apply instead of apply\n",
    "\tmissing_locations[location_type] = missing_locations.progress_apply(\n",
    "\t\tlambda row: get_location_from_coords(row, location_type), axis=1)\n",
    "\tupdated_locations = extract_available_values(missing_locations, location_type)\n",
    "\tdataframe[location_type] = (\n",
    "\t\tdataframe[location_type].combine_first(updated_locations[location_type]))\n",
    "\n",
    "\n",
    "fill_geo_locations(df, 'city')\n",
    "fill_geo_locations(df, 'county')"
   ],
   "metadata": {
    "collapsed": false,
    "ExecuteTime": {
     "end_time": "2024-04-06T09:07:38.063707Z",
     "start_time": "2024-04-06T08:34:19.369159Z"
    }
   },
   "id": "4e79dcf8d8a54b0a",
   "execution_count": 7
  },
  {
   "cell_type": "markdown",
   "source": [
    "### Data Cleanup & Simplification\n",
    "\n",
    "Time to roll up our sleeves and tackle this messy dataset.  Our strategy:\n",
    "\n",
    "* **Missing Ages:** Impute with the median age – at least they'll be statistically average.\n",
    "* **Missing Coordinates:**  Replace with (0, 0). Might as well locate these incidents in the middle of the ocean.\n",
    "* **Other Missing Features:**  Change to 'not_available' for consistency. \n",
    "* **Redundant Categories:** Consolidate similar values to 'not_available' – simplifies things for our weary brains.\n",
    "\n"
   ],
   "metadata": {
    "collapsed": false
   },
   "id": "5d71510621207b3b"
  },
  {
   "cell_type": "code",
   "outputs": [],
   "source": [
    "numerical_columns = ['latitude', 'longitude', 'age']\n",
    "age_median = df['age'].median()\n",
    "\n",
    "\n",
    "def transform_column(column, df):\n",
    "\t\"\"\"\n",
    "    Imputes missing values and creates indicator columns for substitutions.\n",
    "    Handles numerical and non-numerical columns differently:\n",
    "    * Numerical:\n",
    "        - 'latitude', 'longitude': Filled with 0,\n",
    "        creates 'substituted_location' indicator.\n",
    "        - 'age': Filled with median, creates 'substituted_age' indicator.\n",
    "    * Non-numerical:\n",
    "        - Filled with 'not_available'\n",
    "        - Replaces 'unknown' and 'undetermined' with 'not_available' \n",
    "    \"\"\"\n",
    "\n",
    "\tif column in numerical_columns:\n",
    "\t\tif column in ['latitude', 'longitude']:\n",
    "\t\t\tdf[column] = df[column].fillna(0)\n",
    "\t\t\tdf.loc[df[column] == 0, 'substituted_location'] = True\n",
    "\t\telif column == 'age':\n",
    "\t\t\tdf[column] = df[column].fillna(age_median)\n",
    "\t\t\tdf.loc[df[column] == age_median, 'substituted_age'] = True\n",
    "\telse:\n",
    "\t\tdf[column] = df[column].fillna('not_available')\n",
    "\t\tdf[column] = df[column].replace(\n",
    "\t\t\t{'Unknown'     : 'not_available',\n",
    "\t\t\t 'unknown'     : 'not_available',\n",
    "\t\t\t 'undetermined': 'not_available'})\n",
    "\n",
    "\n",
    "df['substituted_location'] = False\n",
    "df['substituted_age'] = False\n",
    "\n",
    "for column in df.columns:\n",
    "\ttransform_column(column, df)"
   ],
   "metadata": {
    "collapsed": false,
    "ExecuteTime": {
     "end_time": "2024-04-06T09:07:38.091079Z",
     "start_time": "2024-04-06T09:07:38.063707Z"
    }
   },
   "id": "4b5741a59871bd60",
   "execution_count": 8
  },
  {
   "cell_type": "markdown",
   "source": [
    "### Improving Feature Clarity\n",
    "\n",
    "Honestly, this feature is a bit of a mess – even I'm starting to doubt its original purpose. Let's break it down and make it more readable. "
   ],
   "metadata": {
    "collapsed": false
   },
   "id": "39704f99ddcf3be2"
  },
  {
   "cell_type": "code",
   "outputs": [],
   "source": [
    "df['race'] = df['race'].astype('string')\n",
    "\n",
    "\n",
    "def decode_race(value):\n",
    "\t\"\"\"\n",
    "    Decodes race abbreviations into full descriptions.\n",
    "    Handles multiple race codes separated by semicolons.\n",
    "    Replaces unknown codes with 'Unknown'.\n",
    "    Args:\n",
    "        value (str): A string containing race codes\n",
    "        separated by semicolons (e.g., 'W;B').\n",
    "    Returns:\n",
    "        str: A string with decoded race descriptions\n",
    "        separated by semicolons (e.g., 'White;Black').\n",
    "    \"\"\"\n",
    "\n",
    "\trace_mapping = {\n",
    "\t\t'W' : 'White',\n",
    "\t\t'B' : 'Black',\n",
    "\t\t'A' : 'Asian heritage',\n",
    "\t\t'N' : 'Native American',\n",
    "\t\t'H' : 'Hispanic',\n",
    "\t\t'O' : 'Other',\n",
    "\t\t'--': 'Unknown'\n",
    "\t}\n",
    "\tdecoded_values = []\n",
    "\tfor code in value.split(';'):\n",
    "\t\tdecoded_values.append(race_mapping.get(code.strip(), 'Unknown'))\n",
    "\treturn ';'.join(decoded_values)\n",
    "\n",
    "\n",
    "df['race'] = df['race'].apply(decode_race)"
   ],
   "metadata": {
    "collapsed": false,
    "ExecuteTime": {
     "end_time": "2024-04-06T09:07:38.100792Z",
     "start_time": "2024-04-06T09:07:38.091079Z"
    }
   },
   "id": "a8a84a5970001a8c",
   "execution_count": 9
  },
  {
   "cell_type": "markdown",
   "source": [
    "### 3. **Feature Engineering Frenzy**\n",
    "\n",
    "_Let's get creative and see what insights we can squeeze out of this dataset._\n",
    "\n",
    "* **Brainstorm Time!** List out every potential feature you can think of. The wilder, the better (for now).  We'll evaluate them later."
   ],
   "metadata": {
    "collapsed": false
   },
   "id": "1cbd6b84c7a30671"
  },
  {
   "cell_type": "code",
   "outputs": [],
   "source": [
    "city_counts = df['city'].value_counts()\n",
    "county_counts = df['county'].value_counts()\n",
    "\n",
    "\n",
    "def count_fatalities(row):\n",
    "\t\"\"\"\n",
    "    Calculates the number of fatalities\n",
    "    associated with a location in the DataFrame.\n",
    "    Args:\n",
    "        row (pandas.Series): A single row from the DataFrame containing 'city', \n",
    "                             'county', and 'fatalities' columns.\n",
    "    Returns:\n",
    "        int: The number of fatalities associated with the location (city or county).\n",
    "    \"\"\"\n",
    "\n",
    "\tif row['city'] == 'not_available':\n",
    "\t\treturn city_counts.get(row['county'], 0)\n",
    "\telse:\n",
    "\t\treturn county_counts.get(row['city'], 0)\n",
    "\n",
    "\n",
    "df['location_fatality_counter'] = (\n",
    "\tdf.apply(count_fatalities, axis=1)\n",
    "\t.astype(int))"
   ],
   "metadata": {
    "collapsed": false,
    "ExecuteTime": {
     "end_time": "2024-04-06T09:07:38.199825Z",
     "start_time": "2024-04-06T09:07:38.102803Z"
    }
   },
   "id": "2712d2366a5eb9cd",
   "execution_count": 10
  },
  {
   "cell_type": "markdown",
   "source": [
    "### Categorizing Age for Impact\n",
    "\n",
    "You're right – seeing **toddler** or **elderly** adds an emotional dimension that raw age numbers don't have. Let's create age categories to highlight these vulnerable groups.  \n"
   ],
   "metadata": {
    "collapsed": false
   },
   "id": "7a98279547fc5986"
  },
  {
   "cell_type": "code",
   "outputs": [],
   "source": [
    "bins = [0, 3, 13, 20, 30, 60, 76, 90, 100]\n",
    "labels = ['toddler', 'child', 'teenager', 'young adult',\n",
    "          'adult', 'senior', 'elderly', 'very elderly']\n",
    "df['age_group'] = (\n",
    "\tpd.cut(df['age'],\n",
    "\t       bins=bins, labels=labels)).astype('category')"
   ],
   "metadata": {
    "collapsed": false,
    "ExecuteTime": {
     "end_time": "2024-04-06T09:07:38.203912Z",
     "start_time": "2024-04-06T09:07:38.199825Z"
    }
   },
   "id": "3bff181652e8e81b",
   "execution_count": 11
  },
  {
   "cell_type": "markdown",
   "source": [
    "### Calculating a Threat Level Score\n",
    "\n",
    "Consolidating those three features makes sense. Let's create a composite **threat level** score that gives us an instant snapshot of the situation's intensity. We can even incorporate **weighted values** for a more nuanced assessment. \n"
   ],
   "metadata": {
    "collapsed": false
   },
   "id": "b42abc65e49d165c"
  },
  {
   "cell_type": "code",
   "outputs": [],
   "source": [
    "df['armed_with'] = (\n",
    "\tdf['armed_with'].astype(str))\n",
    "\n",
    "\n",
    "def scale_armed_threat_score(threat_type_str):\n",
    "\t\"\"\"\n",
    "    This function takes a string containing threat types (separated by ';')\n",
    "    and returns the highest danger score\n",
    "    based on the 'weapon_threat_ratio' dictionary.\n",
    "    Args:\n",
    "        threat_type_str: String containing threat types (e.g., 'gun;other')\n",
    "    Returns:\n",
    "        int: Highest danger score found in the string.\n",
    "    \"\"\"\n",
    "\n",
    "\tweapon_threat_ratio = {\n",
    "\t\t'gun'          : 1,\n",
    "\t\t'vehicle'      : 0.8,\n",
    "\t\t'knife'        : 0.7,\n",
    "\t\t'blunt_object' : 0.4,\n",
    "\t\t'replica'      : 0.3,\n",
    "\t\t'other'        : 0.2,\n",
    "\t\t'unarmed'      : 0.1,\n",
    "\t\t'not_available': 0,\n",
    "\t}\n",
    "\tarmed_threat_score = [\n",
    "\t\tweapon_threat_ratio.get(threat_type, 0) for threat_type in\n",
    "\t\tthreat_type_str.split(';')]\n",
    "\treturn max(armed_threat_score) * 0.6\n",
    "\n",
    "\n",
    "def scale_threat_type_score(threat_type):\n",
    "\t\"\"\"\n",
    "    This function takes a string containing threat types\n",
    "    and returns the danger score based on the 'threat_type_ratio' dictionary.\n",
    "    Args:\n",
    "        threat_type: String containing threat types (e.g., 'shoot')\n",
    "    Returns:\n",
    "        int: Highest danger score found in the string.\n",
    "    \"\"\"\n",
    "\n",
    "\tthreat_type_ratio = {\n",
    "\t\t'shoot'        : 1,\n",
    "\t\t'attack'       : 0.8,\n",
    "\t\t'move'         : 0.6,\n",
    "\t\t'threat'       : 0.5,\n",
    "\t\t'point'        : 0.2,\n",
    "\t\t'flee'         : 0.1,\n",
    "\t\t'accident'     : 0.1,\n",
    "\t\t'not_available': 0\n",
    "\t}\n",
    "\treturn threat_type_ratio.get(threat_type, 0) * 0.3\n",
    "\n",
    "\n",
    "def scale_flee_status_score(flee_status):\n",
    "\t\"\"\"\n",
    "    This function takes a string containing flee types\n",
    "    and returns the danger score based on the 'flee_threat_ratio' dictionary.\n",
    "    Args:\n",
    "        flee_status: String containing threat types (e.g., 'car')\n",
    "    Returns:\n",
    "        int: Highest danger score found in the string.\n",
    "    \"\"\"\n",
    "\n",
    "\tflee_threat_ratio = {\n",
    "\t\t'car'          : 1,\n",
    "\t\t'foot'         : 0.5,\n",
    "\t\t'other'        : 0.1,\n",
    "\t\t'not'          : 0,\n",
    "\t\t'not_available': 0\n",
    "\t}\n",
    "\treturn flee_threat_ratio.get(flee_status, 0) * 0.1\n",
    "\n",
    "\n",
    "def get_threat_severity(threat_level):\n",
    "\t\"\"\"\n",
    "    Determines the threat severity level based on a numerical threat score.\n",
    "    Args:\n",
    "        threat_level (float): A numerical threat score, typically between 0.0 and 1.0.\n",
    "    Returns:\n",
    "        str: A string indicating the threat severity level \n",
    "             ('Low Threat', 'Moderate Threat', 'Serious Threat',\n",
    "              'Elevated Threat', or 'Extreme Threat').\n",
    "\t\"\"\"\n",
    "\n",
    "\tif threat_level <= 0.1:\n",
    "\t\treturn 'Low Threat'\n",
    "\telif threat_level <= 0.4:\n",
    "\t\treturn 'Moderate Threat'\n",
    "\telif threat_level <= 0.7:\n",
    "\t\treturn 'Serious Threat'\n",
    "\telif threat_level < 0.9:\n",
    "\t\treturn 'Elevated Threat'\n",
    "\telse:\n",
    "\t\treturn 'Extreme Threat'\n",
    "\n",
    "\n",
    "df['threat_level'] = (\n",
    "\t\tdf['armed_with'].apply(scale_armed_threat_score) +\n",
    "\t\tdf['threat_type'].apply(scale_threat_type_score) +\n",
    "\t\tdf['flee_status'].apply(scale_flee_status_score))\n",
    "\n",
    "df['threat_level'] = df['threat_level'].apply(\n",
    "\tget_threat_severity).astype('category')"
   ],
   "metadata": {
    "collapsed": false,
    "ExecuteTime": {
     "end_time": "2024-04-06T09:07:38.222925Z",
     "start_time": "2024-04-06T09:07:38.203912Z"
    }
   },
   "id": "347da569b92e96b3",
   "execution_count": 12
  },
  {
   "cell_type": "markdown",
   "source": [
    "### Hunting for Duplicates\n",
    "\n",
    "Let's make sure we're not double-counting incidents. Our first step: Identifying any fully duplicated rows in our dataset. This will be crucial for accurate analysis!\n"
   ],
   "metadata": {
    "collapsed": false
   },
   "id": "fa7d064ad10c39"
  },
  {
   "cell_type": "code",
   "outputs": [
    {
     "name": "stdout",
     "output_type": "stream",
     "text": [
      "There are no duplicated rows\n"
     ]
    }
   ],
   "source": [
    "duplicated_rows = df[df.duplicated()]\n",
    "\n",
    "if duplicated_rows.empty:\n",
    "\tprint(\"There are no duplicated rows\")\n",
    "else:\n",
    "\tprint(duplicated_rows)"
   ],
   "metadata": {
    "collapsed": false,
    "ExecuteTime": {
     "end_time": "2024-04-06T09:07:38.234899Z",
     "start_time": "2024-04-06T09:07:38.222925Z"
    }
   },
   "id": "4e814df26be15e01",
   "execution_count": 13
  },
  {
   "cell_type": "code",
   "outputs": [
    {
     "data": {
      "text/plain": "                 name   age gender            race        date  namesake_count\nid                                                                            \n3692  Kelly G. Abbott  51.0   male           White  2018-05-11               2\n3746  Kelly G. Abbott  51.0   male           White  2018-05-11               2\n8642      Thomas Phan  40.0   male  Asian heritage  2022-11-16               2\n8661      Thomas Phan  40.0   male  Asian heritage  2022-11-16               2",
      "text/html": "<div>\n<style scoped>\n    .dataframe tbody tr th:only-of-type {\n        vertical-align: middle;\n    }\n\n    .dataframe tbody tr th {\n        vertical-align: top;\n    }\n\n    .dataframe thead th {\n        text-align: right;\n    }\n</style>\n<table border=\"1\" class=\"dataframe\">\n  <thead>\n    <tr style=\"text-align: right;\">\n      <th></th>\n      <th>name</th>\n      <th>age</th>\n      <th>gender</th>\n      <th>race</th>\n      <th>date</th>\n      <th>namesake_count</th>\n    </tr>\n    <tr>\n      <th>id</th>\n      <th></th>\n      <th></th>\n      <th></th>\n      <th></th>\n      <th></th>\n      <th></th>\n    </tr>\n  </thead>\n  <tbody>\n    <tr>\n      <th>3692</th>\n      <td>Kelly G. Abbott</td>\n      <td>51.0</td>\n      <td>male</td>\n      <td>White</td>\n      <td>2018-05-11</td>\n      <td>2</td>\n    </tr>\n    <tr>\n      <th>3746</th>\n      <td>Kelly G. Abbott</td>\n      <td>51.0</td>\n      <td>male</td>\n      <td>White</td>\n      <td>2018-05-11</td>\n      <td>2</td>\n    </tr>\n    <tr>\n      <th>8642</th>\n      <td>Thomas Phan</td>\n      <td>40.0</td>\n      <td>male</td>\n      <td>Asian heritage</td>\n      <td>2022-11-16</td>\n      <td>2</td>\n    </tr>\n    <tr>\n      <th>8661</th>\n      <td>Thomas Phan</td>\n      <td>40.0</td>\n      <td>male</td>\n      <td>Asian heritage</td>\n      <td>2022-11-16</td>\n      <td>2</td>\n    </tr>\n  </tbody>\n</table>\n</div>"
     },
     "execution_count": 14,
     "metadata": {},
     "output_type": "execute_result"
    }
   ],
   "source": [
    "df['namesake_count'] = (\n",
    "\tdf.groupby('name')['name'].transform('count'))\n",
    "\n",
    "repeating_name = df[\n",
    "\t(df['namesake_count'] > 1) &\n",
    "\t(df['name'] != 'not_available') &\n",
    "\t(df.duplicated(subset=['name', 'date'], keep=False))]\n",
    "\n",
    "repeating_name = (\n",
    "\trepeating_name.sort_values(\n",
    "\t\tby=['namesake_count', 'name'], ascending=[False, True]))\n",
    "\n",
    "repeating_name = repeating_name.loc[:, ['name', 'age', 'gender',\n",
    "                                        'race', 'date', 'namesake_count']]\n",
    "repeating_name"
   ],
   "metadata": {
    "collapsed": false,
    "ExecuteTime": {
     "end_time": "2024-04-06T09:07:38.250815Z",
     "start_time": "2024-04-06T09:07:38.234899Z"
    }
   },
   "id": "707355ae043de5a2",
   "execution_count": 14
  },
  {
   "cell_type": "markdown",
   "source": [
    "### Investigating Suspicious Duplicates\n",
    "\n",
    "As I suspected... it seems highly unlikely that two incidents would share *all* those identical details. Let's dig deeper and see if there's a data entry error at play. \n"
   ],
   "metadata": {
    "collapsed": false
   },
   "id": "ed2254d781779d75"
  },
  {
   "cell_type": "code",
   "outputs": [
    {
     "data": {
      "text/plain": "            date    threat_type    flee_status armed_with           city  \\\nid                                                                         \n3692  2018-05-11          shoot            car        gun           York   \n3746  2018-05-11          shoot            car        gun   Clark County   \n8642  2022-11-16         attack            not      knife  Santa Clarita   \n8661  2022-11-16  not_available  not_available        gun      Santa Ana   \n\n             county state   latitude   longitude location_precision  ...  \\\nid                                                                   ...   \n3692  not_available    WI  44.595701  -90.476763      not_available  ...   \n3746  not_available    WI   0.000000    0.000000      not_available  ...   \n8642  not_available    CA  34.427815 -118.557983      not_available  ...   \n8661  not_available    CA  33.745412 -117.850271      not_available  ...   \n\n                race    race_source was_mental_illness_related body_camera  \\\nid                                                                           \n3692           White  public_record                      False       False   \n3746           White  not_available                      False       False   \n8642  Asian heritage  public_record                      False       False   \n8661  Asian heritage           clip                      False       False   \n\n     substituted_location  substituted_age  location_fatality_counter  \\\nid                                                                      \n3692                False            False                         13   \n3746                 True            False                          0   \n8642                False            False                          0   \n8661                False            False                          0   \n\n      age_group    threat_level  namesake_count  \nid                                               \n3692      adult  Extreme Threat               2  \n3746      adult  Extreme Threat               2  \n8642      adult  Serious Threat               2  \n8661      adult  Serious Threat               2  \n\n[4 rows x 23 columns]",
      "text/html": "<div>\n<style scoped>\n    .dataframe tbody tr th:only-of-type {\n        vertical-align: middle;\n    }\n\n    .dataframe tbody tr th {\n        vertical-align: top;\n    }\n\n    .dataframe thead th {\n        text-align: right;\n    }\n</style>\n<table border=\"1\" class=\"dataframe\">\n  <thead>\n    <tr style=\"text-align: right;\">\n      <th></th>\n      <th>date</th>\n      <th>threat_type</th>\n      <th>flee_status</th>\n      <th>armed_with</th>\n      <th>city</th>\n      <th>county</th>\n      <th>state</th>\n      <th>latitude</th>\n      <th>longitude</th>\n      <th>location_precision</th>\n      <th>...</th>\n      <th>race</th>\n      <th>race_source</th>\n      <th>was_mental_illness_related</th>\n      <th>body_camera</th>\n      <th>substituted_location</th>\n      <th>substituted_age</th>\n      <th>location_fatality_counter</th>\n      <th>age_group</th>\n      <th>threat_level</th>\n      <th>namesake_count</th>\n    </tr>\n    <tr>\n      <th>id</th>\n      <th></th>\n      <th></th>\n      <th></th>\n      <th></th>\n      <th></th>\n      <th></th>\n      <th></th>\n      <th></th>\n      <th></th>\n      <th></th>\n      <th></th>\n      <th></th>\n      <th></th>\n      <th></th>\n      <th></th>\n      <th></th>\n      <th></th>\n      <th></th>\n      <th></th>\n      <th></th>\n      <th></th>\n    </tr>\n  </thead>\n  <tbody>\n    <tr>\n      <th>3692</th>\n      <td>2018-05-11</td>\n      <td>shoot</td>\n      <td>car</td>\n      <td>gun</td>\n      <td>York</td>\n      <td>not_available</td>\n      <td>WI</td>\n      <td>44.595701</td>\n      <td>-90.476763</td>\n      <td>not_available</td>\n      <td>...</td>\n      <td>White</td>\n      <td>public_record</td>\n      <td>False</td>\n      <td>False</td>\n      <td>False</td>\n      <td>False</td>\n      <td>13</td>\n      <td>adult</td>\n      <td>Extreme Threat</td>\n      <td>2</td>\n    </tr>\n    <tr>\n      <th>3746</th>\n      <td>2018-05-11</td>\n      <td>shoot</td>\n      <td>car</td>\n      <td>gun</td>\n      <td>Clark County</td>\n      <td>not_available</td>\n      <td>WI</td>\n      <td>0.000000</td>\n      <td>0.000000</td>\n      <td>not_available</td>\n      <td>...</td>\n      <td>White</td>\n      <td>not_available</td>\n      <td>False</td>\n      <td>False</td>\n      <td>True</td>\n      <td>False</td>\n      <td>0</td>\n      <td>adult</td>\n      <td>Extreme Threat</td>\n      <td>2</td>\n    </tr>\n    <tr>\n      <th>8642</th>\n      <td>2022-11-16</td>\n      <td>attack</td>\n      <td>not</td>\n      <td>knife</td>\n      <td>Santa Clarita</td>\n      <td>not_available</td>\n      <td>CA</td>\n      <td>34.427815</td>\n      <td>-118.557983</td>\n      <td>not_available</td>\n      <td>...</td>\n      <td>Asian heritage</td>\n      <td>public_record</td>\n      <td>False</td>\n      <td>False</td>\n      <td>False</td>\n      <td>False</td>\n      <td>0</td>\n      <td>adult</td>\n      <td>Serious Threat</td>\n      <td>2</td>\n    </tr>\n    <tr>\n      <th>8661</th>\n      <td>2022-11-16</td>\n      <td>not_available</td>\n      <td>not_available</td>\n      <td>gun</td>\n      <td>Santa Ana</td>\n      <td>not_available</td>\n      <td>CA</td>\n      <td>33.745412</td>\n      <td>-117.850271</td>\n      <td>not_available</td>\n      <td>...</td>\n      <td>Asian heritage</td>\n      <td>clip</td>\n      <td>False</td>\n      <td>False</td>\n      <td>False</td>\n      <td>False</td>\n      <td>0</td>\n      <td>adult</td>\n      <td>Serious Threat</td>\n      <td>2</td>\n    </tr>\n  </tbody>\n</table>\n<p>4 rows × 23 columns</p>\n</div>"
     },
     "execution_count": 15,
     "metadata": {},
     "output_type": "execute_result"
    }
   ],
   "source": [
    "df.loc[[3692, 3746, 8642, 8661]]"
   ],
   "metadata": {
    "collapsed": false,
    "ExecuteTime": {
     "end_time": "2024-04-06T09:07:38.263480Z",
     "start_time": "2024-04-06T09:07:38.251820Z"
    }
   },
   "id": "9775b465b6aefdf",
   "execution_count": 15
  },
  {
   "cell_type": "markdown",
   "source": [
    "### Addressing Duplicate Names and Missing Data\n",
    "\n",
    "Since these duplicate names seem suspicious, let's prioritize data integrity.  We'll remove entries with the following issues:\n",
    "\n",
    "* Missing **location** features\n",
    "* Missing **threat_type** features\n",
    "* Missing **flee_status** features\n",
    "\n",
    "This should help clean up potentially unreliable data points. \n"
   ],
   "metadata": {
    "collapsed": false
   },
   "id": "8581882bd964d811"
  },
  {
   "cell_type": "code",
   "outputs": [],
   "source": [
    "df = df.drop(index=[3746, 8661])"
   ],
   "metadata": {
    "collapsed": false,
    "ExecuteTime": {
     "end_time": "2024-04-06T09:07:38.268990Z",
     "start_time": "2024-04-06T09:07:38.263480Z"
    }
   },
   "id": "ce2d968014804617",
   "execution_count": 16
  },
  {
   "cell_type": "markdown",
   "source": [
    "### Data Formatting & Cleanup\n",
    "\n",
    "Let's not forget to polish up those messy features!  We'll focus on:\n",
    "\n",
    "* **Incorrect Feature Formats:** Ensuring data types are consistent for accurate analysis.  "
   ],
   "metadata": {
    "collapsed": false
   },
   "id": "2f3112839078b591"
  },
  {
   "cell_type": "code",
   "outputs": [],
   "source": [
    "df['date'] = pd.to_datetime(df['date'])\n",
    "df['name'] = df['name'].astype('string')\n",
    "\n",
    "categorical_columns = [\n",
    "\t'threat_type', 'flee_status', 'armed_with', 'city',\n",
    "\t'county', 'state', 'location_precision', 'gender', 'race',\n",
    "\t'race_source', 'namesake_count']\n",
    "\n",
    "df[categorical_columns] = (\n",
    "\tdf)[categorical_columns].astype('category')"
   ],
   "metadata": {
    "collapsed": false,
    "ExecuteTime": {
     "end_time": "2024-04-06T09:07:38.288909Z",
     "start_time": "2024-04-06T09:07:38.270377Z"
    }
   },
   "id": "597842995ae88de4",
   "execution_count": 17
  },
  {
   "cell_type": "markdown",
   "source": [
    "### Extracting Detailed Datetime Formats\n",
    "\n",
    "Let's unlock more time-based insights! We'll extract additional datetime components (**year**, **month**, **day of week**, **day**, etc.) for granular analysis later on.  \n"
   ],
   "metadata": {
    "collapsed": false
   },
   "id": "b6b7199d94909bda"
  },
  {
   "cell_type": "code",
   "outputs": [],
   "source": [
    "df['year'] = df['date'].dt.year.astype('category')\n",
    "df['month'] = df['date'].dt.month_name().astype('category')\n",
    "df['day_of_week'] = df['date'].dt.day_name().astype('category')\n",
    "df['day'] = df['date'].dt.day.astype('category')"
   ],
   "metadata": {
    "collapsed": false,
    "ExecuteTime": {
     "end_time": "2024-04-06T09:07:38.298599Z",
     "start_time": "2024-04-06T09:07:38.288909Z"
    }
   },
   "id": "e8dc6cab1ee1b8ff",
   "execution_count": 18
  },
  {
   "cell_type": "markdown",
   "source": [
    "### Mastering the Seasons \n",
    "\n",
    "Why stop at basic dates? Let's write a function to determine the season (**Spring**, **Summer**, **Fall**, **Winter**) for each incident.  A touch of meteorological flair for our analysis! \n"
   ],
   "metadata": {
    "collapsed": false
   },
   "id": "bd1753b90c8008e3"
  },
  {
   "cell_type": "code",
   "outputs": [],
   "source": [
    "def categorize_season(date):\n",
    "\t\"\"\"Maps a date to its corresponding season.\n",
    "    Args:\n",
    "        date (datetime.date): A date object.\n",
    "    Returns:\n",
    "        str: The season corresponding to the date \n",
    "        ('Spring', 'Summer', 'Fall', or 'Winter').\n",
    "    \"\"\"\n",
    "\n",
    "\tif date.month in [3, 4, 5]:\n",
    "\t\treturn 'Spring'\n",
    "\telif date.month in [6, 7, 8]:\n",
    "\t\treturn 'Summer'\n",
    "\telif date.month in [9, 10, 11]:\n",
    "\t\treturn 'Fall'\n",
    "\telse:\n",
    "\t\treturn 'Winter'\n",
    "\n",
    "\n",
    "df['season'] = (\n",
    "\tdf['date'].apply(categorize_season).astype('category'))"
   ],
   "metadata": {
    "collapsed": false,
    "ExecuteTime": {
     "end_time": "2024-04-06T09:07:38.311368Z",
     "start_time": "2024-04-06T09:07:38.299615Z"
    }
   },
   "id": "7c825ce5284e11ae",
   "execution_count": 19
  },
  {
   "cell_type": "markdown",
   "source": [
    "### Investigating the Holiday Factor\n",
    "\n",
    "Could holidays play a role in these incidents? Let's flag whether each incident occurred on a US federal holiday. This might reveal interesting patterns.\n"
   ],
   "metadata": {
    "collapsed": false
   },
   "id": "f8c64a1cecb65820"
  },
  {
   "cell_type": "code",
   "outputs": [],
   "source": [
    "us_holidays = holidays.US()\n",
    "\n",
    "\n",
    "def is_bank_holiday(date):\n",
    "\t\"\"\"\n",
    "    Determines if a given date is a US bank holiday.\n",
    "    Args:\n",
    "        date (datetime.date): The date to check.\n",
    "    Returns:\n",
    "        bool: True if the date is a US bank holiday, False otherwise.\n",
    "    \"\"\"\n",
    "\n",
    "\treturn date in us_holidays\n",
    "\n",
    "\n",
    "df['bank_holiday'] = (\n",
    "\tdf['date'].apply(is_bank_holiday).astype(bool))"
   ],
   "metadata": {
    "collapsed": false,
    "ExecuteTime": {
     "end_time": "2024-04-06T09:07:38.406446Z",
     "start_time": "2024-04-06T09:07:38.312392Z"
    }
   },
   "id": "9a49ccb9b958515e",
   "execution_count": 20
  },
  {
   "cell_type": "markdown",
   "source": [
    "### Lunar Investigations: Does the Moon Matter?\n",
    "\n",
    "The moon's influence is a source of endless fascination.  Let's calculate the lunar phase (**full moon**, **new moon**, etc.) for each incident.  Who knows, we might uncover a hidden lunar correlation!\n"
   ],
   "metadata": {
    "collapsed": false
   },
   "id": "565b488c096b3164"
  },
  {
   "cell_type": "code",
   "outputs": [],
   "source": [
    "def calculate_lunar_phase(date):\n",
    "\t\"\"\"\n",
    "    Determines the lunar phase for a given date.\n",
    "    Uses the 'ephem' library for astronomical calculations.\n",
    "    Args:\n",
    "        date (datetime.date): The date for which to calculate the lunar phase.\n",
    "    Returns:\n",
    "        str: The lunar phase category \n",
    "        ('New Moon', 'First Quarter', 'Full Moon', or 'Last Quarter').\n",
    "    \"\"\"\n",
    "\n",
    "\tobs = ephem.Observer()\n",
    "\tobs.date = date\n",
    "\tmoon_phase = ephem.Moon(obs).phase\n",
    "\tif moon_phase < 7.4:\n",
    "\t\treturn 'New Moon'\n",
    "\telif moon_phase < 14.8:\n",
    "\t\treturn 'First Quarter'\n",
    "\telif moon_phase < 22.1:\n",
    "\t\treturn 'Full Moon'\n",
    "\telif moon_phase < 29.5:\n",
    "\t\treturn 'Last Quarter'\n",
    "\telse:\n",
    "\t\treturn 'New Moon'\n",
    "\n",
    "\n",
    "df['lunar_phase'] = (\n",
    "\tdf['date'].apply(calculate_lunar_phase).astype('category'))"
   ],
   "metadata": {
    "collapsed": false,
    "ExecuteTime": {
     "end_time": "2024-04-06T09:07:38.528870Z",
     "start_time": "2024-04-06T09:07:38.406446Z"
    }
   },
   "id": "a7236a7b9ace4525",
   "execution_count": 21
  },
  {
   "cell_type": "code",
   "outputs": [
    {
     "name": "stdout",
     "output_type": "stream",
     "text": [
      "<class 'pandas.core.frame.DataFrame'>\n",
      "Index: 9495 entries, 3 to 10272\n",
      "Data columns (total 30 columns):\n",
      " #   Column                      Non-Null Count  Dtype         \n",
      "---  ------                      --------------  -----         \n",
      " 0   date                        9495 non-null   datetime64[ns]\n",
      " 1   threat_type                 9495 non-null   category      \n",
      " 2   flee_status                 9495 non-null   category      \n",
      " 3   armed_with                  9495 non-null   category      \n",
      " 4   city                        9495 non-null   category      \n",
      " 5   county                      9495 non-null   category      \n",
      " 6   state                       9495 non-null   category      \n",
      " 7   latitude                    9495 non-null   float64       \n",
      " 8   longitude                   9495 non-null   float64       \n",
      " 9   location_precision          9495 non-null   category      \n",
      " 10  name                        9495 non-null   string        \n",
      " 11  age                         9495 non-null   float64       \n",
      " 12  gender                      9495 non-null   category      \n",
      " 13  race                        9495 non-null   category      \n",
      " 14  race_source                 9495 non-null   category      \n",
      " 15  was_mental_illness_related  9495 non-null   bool          \n",
      " 16  body_camera                 9495 non-null   bool          \n",
      " 17  substituted_location        9495 non-null   bool          \n",
      " 18  substituted_age             9495 non-null   bool          \n",
      " 19  location_fatality_counter   9495 non-null   int32         \n",
      " 20  age_group                   9495 non-null   category      \n",
      " 21  threat_level                9495 non-null   category      \n",
      " 22  namesake_count              9495 non-null   category      \n",
      " 23  year                        9495 non-null   category      \n",
      " 24  month                       9495 non-null   category      \n",
      " 25  day_of_week                 9495 non-null   category      \n",
      " 26  day                         9495 non-null   category      \n",
      " 27  season                      9495 non-null   category      \n",
      " 28  bank_holiday                9495 non-null   bool          \n",
      " 29  lunar_phase                 9495 non-null   category      \n",
      "dtypes: bool(5), category(19), datetime64[ns](1), float64(3), int32(1), string(1)\n",
      "memory usage: 927.3 KB\n"
     ]
    }
   ],
   "source": [
    "df.info()"
   ],
   "metadata": {
    "collapsed": false,
    "ExecuteTime": {
     "end_time": "2024-04-06T09:07:38.540869Z",
     "start_time": "2024-04-06T09:07:38.529374Z"
    }
   },
   "id": "c6e7fbf4794f1b73",
   "execution_count": 22
  },
  {
   "cell_type": "markdown",
   "source": [
    "### Final Touches: Saving Our Polished Dataframe\n",
    "\n",
    "Our data is gleaming! Let's preserve this beautifully formatted dataset by saving it in Parquet format.  This ensures consistency and efficiency for future exploration. \n"
   ],
   "metadata": {
    "collapsed": false
   },
   "id": "2bf6c1139c642ae0"
  },
  {
   "cell_type": "code",
   "outputs": [],
   "source": [
    "df.to_parquet('police_brutality.parquet')"
   ],
   "metadata": {
    "collapsed": false,
    "ExecuteTime": {
     "end_time": "2024-04-06T09:07:38.577518Z",
     "start_time": "2024-04-06T09:07:38.540869Z"
    }
   },
   "id": "143201df0da58bb3",
   "execution_count": 23
  }
 ],
 "metadata": {
  "kernelspec": {
   "display_name": "Python 3",
   "language": "python",
   "name": "python3"
  },
  "language_info": {
   "codemirror_mode": {
    "name": "ipython",
    "version": 2
   },
   "file_extension": ".py",
   "mimetype": "text/x-python",
   "name": "python",
   "nbconvert_exporter": "python",
   "pygments_lexer": "ipython2",
   "version": "2.7.6"
  }
 },
 "nbformat": 4,
 "nbformat_minor": 5
}
